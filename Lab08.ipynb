{
 "cells": [
  {
   "cell_type": "code",
   "execution_count": 4,
   "metadata": {},
   "outputs": [
    {
     "name": "stdout",
     "output_type": "stream",
     "text": [
      "What is your name?John Doe\n"
     ]
    },
    {
     "data": {
      "text/plain": [
       "'Nice to meet you,  John Doe'"
      ]
     },
     "execution_count": 4,
     "metadata": {},
     "output_type": "execute_result"
    }
   ],
   "source": [
    "# Create a function that asks the user his name and says Hello, John Doe\n",
    "def chat(question, answer):\n",
    "    msg=\"\"\n",
    "    while msg==\"\":\n",
    "        msg=input(question)\n",
    "    return str(answer)+\" \"+ str(msg)\n",
    "\n",
    "chat(\"What is your name?\", \"Nice to meet you, \")"
   ]
  },
  {
   "cell_type": "code",
   "execution_count": 5,
   "metadata": {},
   "outputs": [
    {
     "name": "stdout",
     "output_type": "stream",
     "text": [
      "What is the problem?Nothing\n",
      "Yes, of course\n"
     ]
    }
   ],
   "source": [
    "#Create a function 'chat' asking for the problem and answer \"yes of course\"\n",
    "\n",
    "def chat():\n",
    "    problem=input(\"What is the problem?\")\n",
    "    print(\"Yes, of course\")\n",
    "chat()"
   ]
  },
  {
   "cell_type": "code",
   "execution_count": 6,
   "metadata": {},
   "outputs": [
    {
     "name": "stdout",
     "output_type": "stream",
     "text": [
      "What is the problem?h\n",
      "Yes, of course\n",
      "What is the problem?iejf\n",
      "Yes, of course\n",
      "What is the problem?bye\n",
      "Yes, of course\n"
     ]
    }
   ],
   "source": [
    "#Create a function 'chat' asking for the problem and answer \"yes of course\" with loop and bye - exit\n",
    "\n",
    "def chat():\n",
    "    problem=\"\"\n",
    "    while problem !=\"bye\":\n",
    "        problem=input(\"What is the problem?\")\n",
    "        print(\"Yes, of course\")\n",
    "chat()"
   ]
  },
  {
   "cell_type": "code",
   "execution_count": 7,
   "metadata": {},
   "outputs": [
    {
     "name": "stdout",
     "output_type": "stream",
     "text": [
      "What is the problem?Life\n",
      "Thank you for the message.\n"
     ]
    }
   ],
   "source": [
    "#Chat answering randomly 6 possible answers\n",
    "\n",
    "import random\n",
    "randomAnswers=(\"You will be fine.\", \"Nice to meet you.\", \"Great\", \"Thank you for the message.\", \"Life is great.\", \"No worries.\")\n",
    "\n",
    "def chat():\n",
    "    problem=input(\"What is the problem?\")\n",
    "    print(random.choice(randomAnswers))\n",
    "    \n",
    "chat()"
   ]
  },
  {
   "cell_type": "code",
   "execution_count": 8,
   "metadata": {},
   "outputs": [
    {
     "name": "stdout",
     "output_type": "stream",
     "text": [
      "What is the problem?hg\n",
      "Life is great.\n",
      "What is the problem?hf\n",
      "Great\n",
      "What is the problem?WH\n",
      "Life is great.\n",
      "What is the problem?OK\n",
      "Great\n",
      "What is the problem?ok\n",
      "You will be fine.\n"
     ]
    }
   ],
   "source": [
    "#Chat answering randomly 6 possible answers with loop\n",
    "\n",
    "import random\n",
    "randomAnswers=[\"You will be fine.\", \"Nice to meet you.\", \"Great\", \"Thank you for the message.\", \"Life is great.\", \"No worries.\"]\n",
    "\n",
    "def chat():\n",
    "    problem1=\"\"\n",
    "    while problem1!=\"ok\":\n",
    "        problem1=input(\"What is the problem?\")\n",
    "        print(random.choice(randomAnswers))\n",
    "    \n",
    "chat()"
   ]
  },
  {
   "cell_type": "code",
   "execution_count": 9,
   "metadata": {},
   "outputs": [],
   "source": [
    "#Chat answering randomly 6 possible answers with loop - option 2\n",
    "\n",
    "import random\n",
    "randomAnswers=[\"You will be fine.\", \"Nice to meet you.\", \"Great\", \"Thank you for the message.\", \"Life is great.\", \"No worries.\"]\n",
    "\n",
    "def randchat():\n",
    "        question=input(\"What is the problem?\")\n",
    "        print(randomAnswers[random.randint(0,5)])\n",
    "    \n"
   ]
  },
  {
   "cell_type": "code",
   "execution_count": 10,
   "metadata": {},
   "outputs": [
    {
     "name": "stdout",
     "output_type": "stream",
     "text": [
      "What is the problem?everything\n",
      "No worries.\n"
     ]
    }
   ],
   "source": [
    "randchat()"
   ]
  },
  {
   "cell_type": "code",
   "execution_count": 11,
   "metadata": {},
   "outputs": [
    {
     "name": "stdout",
     "output_type": "stream",
     "text": [
      "What's your name?Lau\n",
      "Hello Lau\n",
      "What is the problem?Everything is fine.\n",
      "Great\n"
     ]
    }
   ],
   "source": [
    "#Put it all together \n",
    "import random\n",
    "randomAnswers=[\"You will be fine.\", \"Nice to meet you.\", \"Great\", \"Thank you for the message.\", \"Life is great.\", \"No worries.\"]\n",
    "\n",
    "def chat():\n",
    "    msg=\"\"\n",
    "    while msg==\"\":\n",
    "        msg=input(\"What's your name?\")\n",
    "        return print(str(\"Hello\")+\" \"+ str(msg))\n",
    "chat()\n",
    "\n",
    "def chat2():\n",
    "    prob=\"\"\n",
    "    while prob!=\"ok\":\n",
    "        prob=input(\"What is the problem?\")\n",
    "        return print(random.choice(randomAnswers))\n",
    "\n",
    "chat2()"
   ]
  },
  {
   "cell_type": "code",
   "execution_count": null,
   "metadata": {},
   "outputs": [],
   "source": []
  }
 ],
 "metadata": {
  "kernelspec": {
   "display_name": "Python 3",
   "language": "python",
   "name": "python3"
  },
  "language_info": {
   "codemirror_mode": {
    "name": "ipython",
    "version": 3
   },
   "file_extension": ".py",
   "mimetype": "text/x-python",
   "name": "python",
   "nbconvert_exporter": "python",
   "pygments_lexer": "ipython3",
   "version": "3.7.3"
  }
 },
 "nbformat": 4,
 "nbformat_minor": 2
}
