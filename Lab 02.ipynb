{
 "cells": [
  {
   "cell_type": "code",
   "execution_count": 1,
   "metadata": {},
   "outputs": [],
   "source": [
    "#1.Construct a list including potatoes, carrots, cod and sprouts.\n",
    "\n",
    "shoppingList= list((\"potatoes\", \"carrots\", \"cod\", \"sprouts\"))\n"
   ]
  },
  {
   "cell_type": "code",
   "execution_count": 2,
   "metadata": {},
   "outputs": [
    {
     "name": "stdout",
     "output_type": "stream",
     "text": [
      "carrots\n",
      "sprouts\n"
     ]
    }
   ],
   "source": [
    "#2.second and last element.\n",
    "\n",
    "print(shoppingList [1])\n",
    "\n",
    "print(shoppingList [3])\n"
   ]
  },
  {
   "cell_type": "code",
   "execution_count": 3,
   "metadata": {},
   "outputs": [
    {
     "name": "stdout",
     "output_type": "stream",
     "text": [
      "['potatoes', 'carrots', 'cod', 'sprouts']\n"
     ]
    }
   ],
   "source": [
    "#3.Iterate through the list.\n",
    "\n",
    "print(shoppingList)"
   ]
  },
  {
   "cell_type": "code",
   "execution_count": 4,
   "metadata": {},
   "outputs": [
    {
     "name": "stdout",
     "output_type": "stream",
     "text": [
      "[]\n"
     ]
    }
   ],
   "source": [
    "#4.Construct a new list.\n",
    "\n",
    "studentList= list(())\n",
    "print(studentList)"
   ]
  },
  {
   "cell_type": "code",
   "execution_count": 5,
   "metadata": {},
   "outputs": [
    {
     "name": "stdout",
     "output_type": "stream",
     "text": [
      "['potatoes', 'carrots', 'cod', 'sprouts', 'orange', 'lime']\n"
     ]
    }
   ],
   "source": [
    "#5.Add orange and lime to shopping list.\n",
    "shoppingList= list((\"potatoes\", \"carrots\", \"cod\", \"sprouts\"))\n",
    "shoppingList.append(\"orange\")\n",
    "shoppingList.append(\"lime\")\n",
    "\n",
    "print(shoppingList)"
   ]
  },
  {
   "cell_type": "code",
   "execution_count": 6,
   "metadata": {},
   "outputs": [
    {
     "name": "stdout",
     "output_type": "stream",
     "text": [
      "['cod', 'sprouts', 'orange']\n"
     ]
    }
   ],
   "source": [
    "#6.Remove carrots, first element and last element of shopping list.\n",
    "\n",
    "shoppingList.remove(\"carrots\")\n",
    "del shoppingList [0]\n",
    "del shoppingList [-1]\n",
    "\n",
    "print(shoppingList)"
   ]
  },
  {
   "cell_type": "code",
   "execution_count": 7,
   "metadata": {},
   "outputs": [
    {
     "ename": "NameError",
     "evalue": "name 'studentList' is not defined",
     "output_type": "error",
     "traceback": [
      "\u001b[1;31m---------------------------------------------------------------------------\u001b[0m",
      "\u001b[1;31mNameError\u001b[0m                                 Traceback (most recent call last)",
      "\u001b[1;32m<ipython-input-7-5540c42498fc>\u001b[0m in \u001b[0;36m<module>\u001b[1;34m\u001b[0m\n\u001b[0;32m      3\u001b[0m \u001b[0mstudentList\u001b[0m\u001b[1;33m=\u001b[0m \u001b[0mlist\u001b[0m\u001b[1;33m(\u001b[0m\u001b[1;33m(\u001b[0m\u001b[1;33m)\u001b[0m\u001b[1;33m)\u001b[0m\u001b[1;33m\u001b[0m\u001b[1;33m\u001b[0m\u001b[0m\n\u001b[0;32m      4\u001b[0m \u001b[1;32mdel\u001b[0m \u001b[0mstudentList\u001b[0m\u001b[1;33m\u001b[0m\u001b[1;33m\u001b[0m\u001b[0m\n\u001b[1;32m----> 5\u001b[1;33m \u001b[0mprint\u001b[0m\u001b[1;33m(\u001b[0m\u001b[0mstudentList\u001b[0m\u001b[1;33m)\u001b[0m\u001b[1;33m\u001b[0m\u001b[1;33m\u001b[0m\u001b[0m\n\u001b[0m",
      "\u001b[1;31mNameError\u001b[0m: name 'studentList' is not defined"
     ]
    }
   ],
   "source": [
    "#7.Delete studentList.\n",
    "\n",
    "studentList= list(())\n",
    "del studentList\n",
    "print(studentList)"
   ]
  },
  {
   "cell_type": "code",
   "execution_count": 8,
   "metadata": {},
   "outputs": [
    {
     "name": "stdout",
     "output_type": "stream",
     "text": [
      "[2, 4, 6, 8, 10, 12, 14, 16, 18, 20, 22, 24, 26, 28]\n"
     ]
    }
   ],
   "source": [
    "#8.Create a list with the double values os number between 1 and 15.\n",
    "\n",
    "doubleValues= list((2*x for x in range(1, 15)))\n",
    "print(doubleValues)"
   ]
  },
  {
   "cell_type": "code",
   "execution_count": 9,
   "metadata": {},
   "outputs": [
    {
     "name": "stdout",
     "output_type": "stream",
     "text": [
      "[2, 4, 6]\n"
     ]
    }
   ],
   "source": [
    "#9.Obtain the first 3 elements of the list.\n",
    "\n",
    "firstThree=doubleValues [:3]\n",
    "print(firstThree)"
   ]
  },
  {
   "cell_type": "code",
   "execution_count": 10,
   "metadata": {},
   "outputs": [
    {
     "name": "stdout",
     "output_type": "stream",
     "text": [
      "['cod', 'sprouts', 'orange']\n"
     ]
    }
   ],
   "source": [
    "#10. What is the result and why.\n",
    "\n",
    "shopping=shoppingList\n",
    "shoppingListCopy=shoppingList[:]\n",
    "print(shopping)\n",
    "\n",
    "#I made an independent copy of shoppingList and gave it the name shopping.\n",
    "#Therefore it displays only cod, sprouts and orange."
   ]
  },
  {
   "cell_type": "code",
   "execution_count": 11,
   "metadata": {},
   "outputs": [
    {
     "name": "stdout",
     "output_type": "stream",
     "text": [
      "['cod', 'sprouts', 'orange', 'orange']\n"
     ]
    }
   ],
   "source": [
    "#11. What is the result and why.\n",
    "\n",
    "shopping=shoppingList\n",
    "shoppingList.append(\"orange\")\n",
    "print(shopping)\n",
    "\n",
    "#I point to shoppingList. \n",
    "#So every change in shoppingList will also occurr in shopping."
   ]
  },
  {
   "cell_type": "code",
   "execution_count": 12,
   "metadata": {},
   "outputs": [
    {
     "name": "stdout",
     "output_type": "stream",
     "text": [
      "[]\n"
     ]
    }
   ],
   "source": [
    "#12. Remove all the items from shoppingList.\n",
    "\n",
    "shoppingList.clear()\n",
    "print(shoppingList)"
   ]
  },
  {
   "cell_type": "code",
   "execution_count": 14,
   "metadata": {},
   "outputs": [
    {
     "name": "stdout",
     "output_type": "stream",
     "text": [
      "beans\n"
     ]
    },
    {
     "ename": "TypeError",
     "evalue": "'tuple' object does not support item assignment",
     "output_type": "error",
     "traceback": [
      "\u001b[1;31m---------------------------------------------------------------------------\u001b[0m",
      "\u001b[1;31mTypeError\u001b[0m                                 Traceback (most recent call last)",
      "\u001b[1;32m<ipython-input-14-836e3d89b477>\u001b[0m in \u001b[0;36m<module>\u001b[1;34m\u001b[0m\n\u001b[0;32m      4\u001b[0m \u001b[0mprint\u001b[0m\u001b[1;33m(\u001b[0m\u001b[0mnewPurchases\u001b[0m\u001b[1;33m[\u001b[0m\u001b[1;36m1\u001b[0m\u001b[1;33m]\u001b[0m\u001b[1;33m)\u001b[0m\u001b[1;33m\u001b[0m\u001b[1;33m\u001b[0m\u001b[0m\n\u001b[0;32m      5\u001b[0m \u001b[1;33m\u001b[0m\u001b[0m\n\u001b[1;32m----> 6\u001b[1;33m \u001b[0mnewPurchases\u001b[0m \u001b[1;33m[\u001b[0m\u001b[1;36m0\u001b[0m\u001b[1;33m]\u001b[0m \u001b[1;33m=\u001b[0m\u001b[1;34m\"apple\"\u001b[0m\u001b[1;33m\u001b[0m\u001b[1;33m\u001b[0m\u001b[0m\n\u001b[0m\u001b[0;32m      7\u001b[0m \u001b[1;33m\u001b[0m\u001b[0m\n\u001b[0;32m      8\u001b[0m \u001b[1;31m#Position 1 of the tuple is printed, which is beans.\u001b[0m\u001b[1;33m\u001b[0m\u001b[1;33m\u001b[0m\u001b[1;33m\u001b[0m\u001b[0m\n",
      "\u001b[1;31mTypeError\u001b[0m: 'tuple' object does not support item assignment"
     ]
    }
   ],
   "source": [
    "#13. What is the result and why.\n",
    "\n",
    "newPurchases=(\"bananas\", \"beans\", \"rice\")\n",
    "print(newPurchases[1])\n",
    "\n",
    "newPurchases [0] =\"apple\"\n",
    "\n",
    "#Position 1 of the tuple is printed, which is beans. \n",
    "#New assignment is not allowed for tuples, that is why the error is displayed"
   ]
  },
  {
   "cell_type": "code",
   "execution_count": 15,
   "metadata": {},
   "outputs": [
    {
     "name": "stdout",
     "output_type": "stream",
     "text": [
      "1 orange\n",
      "On day 1 I will buy orange.\n",
      "2 apple\n",
      "On day 2 I will buy apple.\n",
      "3 pear\n",
      "On day 3 I will buy pear.\n",
      "4 grape\n",
      "On day 4 I will buy grape.\n",
      "5 peach\n",
      "On day 5 I will buy peach.\n"
     ]
    }
   ],
   "source": [
    "#14. Create a dictionary. Key 1 to 5. Iteration through key-value pair.\n",
    "\n",
    "fruit={1: 'orange', 2: 'apple', 3: 'pear', 4: 'grape', 5: 'peach'}\n",
    "for key, value in fruit.items():\n",
    "    print(str (key) + \" \"+ value)\n",
    "    print(\"On day\"+\" \"+str(key)+\" \"+\"I will buy\"+\" \"+value+\".\")"
   ]
  },
  {
   "cell_type": "code",
   "execution_count": 13,
   "metadata": {},
   "outputs": [
    {
     "name": "stdout",
     "output_type": "stream",
     "text": [
      "[['carrots', 'apple', 'spices'], ['potatoe', 'lime'], ['pear', 'grape'], ['peach', 'fish'], ['bread', 'water', 'meat']]\n"
     ]
    }
   ],
   "source": [
    "#15. Create a weekList with several lists corresponding to a day. \n",
    "\n",
    "weekList= []\n",
    "monday=list((\"carrots\",\"apple\",\"spices\"))\n",
    "tuesday=list((\"potatoe\",\"lime\"))\n",
    "wednesday=list((\"pear\",\"grape\"))\n",
    "thursday=list((\"peach\",\"fish\"))\n",
    "friday=list((\"bread\",\"water\", \"meat\"))\n",
    "\n",
    "weekList.append(monday)\n",
    "weekList.append(tuesday)\n",
    "weekList.append(wednesday)\n",
    "weekList.append(thursday)\n",
    "weekList.append(friday)\n",
    "print(weekList)"
   ]
  },
  {
   "cell_type": "code",
   "execution_count": null,
   "metadata": {},
   "outputs": [],
   "source": []
  },
  {
   "cell_type": "code",
   "execution_count": null,
   "metadata": {},
   "outputs": [],
   "source": []
  }
 ],
 "metadata": {
  "kernelspec": {
   "display_name": "Python 3",
   "language": "python",
   "name": "python3"
  },
  "language_info": {
   "codemirror_mode": {
    "name": "ipython",
    "version": 3
   },
   "file_extension": ".py",
   "mimetype": "text/x-python",
   "name": "python",
   "nbconvert_exporter": "python",
   "pygments_lexer": "ipython3",
   "version": "3.7.3"
  }
 },
 "nbformat": 4,
 "nbformat_minor": 2
}
