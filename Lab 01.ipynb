{
 "cells": [
  {
   "cell_type": "code",
   "execution_count": null,
   "metadata": {},
   "outputs": [],
   "source": [
    "'''1. Verify if a value is an integer. Evaluates true.'''\n",
    "\n",
    "a=4\n",
    "a==int(a)"
   ]
  },
  {
   "cell_type": "code",
   "execution_count": null,
   "metadata": {},
   "outputs": [],
   "source": [
    "'''2. Verify if variable a is an even number.[false]'''\n",
    "\n",
    "a=3\n",
    "\n",
    "a%2==0\n"
   ]
  },
  {
   "cell_type": "code",
   "execution_count": null,
   "metadata": {},
   "outputs": [],
   "source": [
    "'''2. Verify if variable a is an even number.[true]'''\n",
    "\n",
    "a=4\n",
    "\n",
    "a%2==0\n"
   ]
  },
  {
   "cell_type": "code",
   "execution_count": null,
   "metadata": {},
   "outputs": [],
   "source": [
    "'''3. Insert two numbers. Is the first bigger than the second? [false]'''\n",
    "\n",
    "a=4\n",
    "b=8\n",
    "\n",
    "a>b\n"
   ]
  },
  {
   "cell_type": "code",
   "execution_count": null,
   "metadata": {},
   "outputs": [],
   "source": [
    "'''3. Insert two numbers. Is the first bigger than the second? [true]'''\n",
    "\n",
    "a=10\n",
    "b=6\n",
    "\n",
    "a>b\n"
   ]
  },
  {
   "cell_type": "code",
   "execution_count": null,
   "metadata": {},
   "outputs": [],
   "source": [
    "'''4. Verify if one value is multiple of another.'''\n",
    "\n",
    "n=3\n",
    "m=9\n",
    "\n",
    "m%n==0"
   ]
  },
  {
   "cell_type": "code",
   "execution_count": null,
   "metadata": {},
   "outputs": [],
   "source": [
    "'''4. Verify if one value is multiple of another.'''\n",
    "\n",
    "n=2\n",
    "m=9\n",
    "\n",
    "m%n==0"
   ]
  },
  {
   "cell_type": "code",
   "execution_count": null,
   "metadata": {},
   "outputs": [],
   "source": [
    "'''5. Calculate the interest earn by an investor that invested a capital of 200 \n",
    "during 3 years with an interest rate of 3%. (simple interest)'''\n",
    "\n",
    "capital=200\n",
    "time=3\n",
    "rate=0.03\n",
    "\n",
    "interest=capital*time*rate\n",
    "\n",
    "print(interest)"
   ]
  },
  {
   "cell_type": "code",
   "execution_count": null,
   "metadata": {},
   "outputs": [],
   "source": [
    "'''6. Capital that an investor obtained after investing a capital of 200 \n",
    "during 3 years with an interest rate of 3%. (compound interest)'''\n",
    "\n",
    "capital=200\n",
    "time=3\n",
    "rate=0.03\n",
    "\n",
    "accruedCapital=capital*(1+rate)**time\n",
    "\n",
    "print(accruedCapital)\n"
   ]
  },
  {
   "cell_type": "code",
   "execution_count": null,
   "metadata": {},
   "outputs": [],
   "source": [
    "'''7. Calculate your BMI.'''\n",
    "\n",
    "weight= input(\"Please type your weight in kilogram.\")\n",
    "height= input(\"Please also type your height in meters.\")\n",
    "\n",
    "\n",
    "BMI=float(weight)/(float(height)**2)\n",
    "\n",
    "print(BMI)"
   ]
  },
  {
   "cell_type": "code",
   "execution_count": null,
   "metadata": {},
   "outputs": [],
   "source": [
    "'''8.1. Calculate the Golden Ratio. [without libraries]'''\n",
    "\n",
    "gr=(1+(5)**(1/2))/2\n",
    "print (gr)\n"
   ]
  },
  {
   "cell_type": "code",
   "execution_count": null,
   "metadata": {},
   "outputs": [],
   "source": [
    "'''8.2. Calculate the Golden Ratio. [with module math and function]'''\n",
    "\n",
    "import math\n",
    "\n",
    "gr=(1+math.sqrt(5))/2\n",
    "print (gr)"
   ]
  },
  {
   "cell_type": "code",
   "execution_count": null,
   "metadata": {},
   "outputs": [],
   "source": [
    "'''9. Calculate the NPV of an investment, considering an initial \n",
    "investment of 10000, the following cashflows 2000, 3000, 4000,\n",
    "4000 and 5000 and a discount rate of 10%.'''\n",
    "\n",
    "FV1=2000\n",
    "FV2=3000\n",
    "FV3=4000\n",
    "FV4=4000\n",
    "FV5=5000\n",
    "k=0.1\n",
    "I=10000\n",
    "\n",
    "NPV=-I+FV1/((1+k)**1)+FV2/((1+k)**2)+FV3/((1+k)**3)+FV4/((1+k)**4)+FV5/((1+k)**5)\n",
    "\n",
    "print (NPV)\n"
   ]
  },
  {
   "cell_type": "code",
   "execution_count": null,
   "metadata": {},
   "outputs": [],
   "source": [
    "'''10.1. Ask the user to insert name and age. Calculate the birth. \n",
    "Print a result saying that this person was born in...'''\n",
    "\n",
    "name=input(\"Please type your name.\")\n",
    "age=input(\"Please also insert your age.\")\n",
    "\n",
    "birthYear=2019-int(age)\n",
    "\n",
    "print(name+\" was born in\"+\" \"+str(birthYear)+\".\") \n"
   ]
  },
  {
   "cell_type": "code",
   "execution_count": null,
   "metadata": {},
   "outputs": [],
   "source": [
    "'''10.2. Ask the user to insert name and age. Calculate the birth. \n",
    "Print a result saying that this person was born in...[using date library]'''\n",
    "\n",
    "name=input(\"Please type your name.\")\n",
    "age=input(\"Please also insert your age.\")\n",
    "\n",
    "from datetime import date\n",
    "\n",
    "today=date.today()\n",
    "\n",
    "birthYear=today.year-int(age)\n",
    "\n",
    "print(name+\" was born in\"+\" \"+str(birthYear)+\".\") "
   ]
  },
  {
   "cell_type": "code",
   "execution_count": null,
   "metadata": {},
   "outputs": [],
   "source": [
    "'''11. Ask the user to insert forename and surname. Create a new variable \n",
    "called name with the user's complete name.'''\n",
    "\n",
    "firstName=input(\"Please type your first names.\")\n",
    "surname=input(\"Please type your last name.\")\n",
    "\n",
    "name=firstName+\" \"+surname+\".\"\n",
    "\n",
    "print(name)"
   ]
  },
  {
   "cell_type": "code",
   "execution_count": null,
   "metadata": {},
   "outputs": [],
   "source": [
    "'''11.1 using nameBig, nameTitle, nameSmall, nameCapitalized.'''\n",
    "\n",
    "firstName=input(\"Please type your first names.\")\n",
    "surname=input(\"Please type your last name.\")\n",
    "\n",
    "#print the name as inserted\n",
    "name=firstName+\" \"+surname+\".\"\n",
    "print(name)\n",
    "\n",
    "#print all characters in uppercase letters\n",
    "nameBig=name.upper()\n",
    "print(nameBig)\n",
    "\n",
    "#print only the first character of each word in uppercase\n",
    "nameTitle=name.title()\n",
    "print(nameTitle)\n",
    "\n",
    "#print all the characters in lowercase\n",
    "nameSmall=name.lower()\n",
    "print(nameSmall)\n",
    "\n",
    "#print only the first character of the entire phrase in uppercase letter\n",
    "nameCapitalized=name.capitalize()\n",
    "print(nameCapitalized)"
   ]
  },
  {
   "cell_type": "code",
   "execution_count": null,
   "metadata": {},
   "outputs": [],
   "source": [
    "'''12. Show where in which character apprears the first \"da\".'''\n",
    "\n",
    "string=\"jsGUIAdame\"\n",
    "\n",
    "str.find(string,\"da\")\n"
   ]
  },
  {
   "cell_type": "code",
   "execution_count": null,
   "metadata": {},
   "outputs": [],
   "source": [
    "'''12. Show where in which character apprears the first \"da\". [not found]'''\n",
    "\n",
    "string=\"hfgrtzu\"\n",
    "\n",
    "str.find(string,\"da\")"
   ]
  },
  {
   "cell_type": "code",
   "execution_count": null,
   "metadata": {},
   "outputs": [],
   "source": [
    "'''12. Show where in which character apprears the first \"da\". [first character]'''\n",
    "\n",
    "string=\"dajsGUIAdame\"\n",
    "\n",
    "str.find(string,\"da\")"
   ]
  },
  {
   "cell_type": "code",
   "execution_count": null,
   "metadata": {},
   "outputs": [],
   "source": []
  }
 ],
 "metadata": {
  "kernelspec": {
   "display_name": "Python 3",
   "language": "python",
   "name": "python3"
  },
  "language_info": {
   "codemirror_mode": {
    "name": "ipython",
    "version": 3
   },
   "file_extension": ".py",
   "mimetype": "text/x-python",
   "name": "python",
   "nbconvert_exporter": "python",
   "pygments_lexer": "ipython3",
   "version": "3.7.3"
  }
 },
 "nbformat": 4,
 "nbformat_minor": 2
}
